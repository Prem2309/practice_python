{
 "cells": [
  {
   "cell_type": "code",
   "execution_count": 1,
   "id": "55ac68a1-2150-4279-907c-a75a64b447d3",
   "metadata": {},
   "outputs": [
    {
     "name": "stdin",
     "output_type": "stream",
     "text": [
      " 5\n"
     ]
    },
    {
     "name": "stdout",
     "output_type": "stream",
     "text": [
      "120\n"
     ]
    }
   ],
   "source": [
    "n=int(input())\n",
    "fact=1\n",
    "while 1<=n:\n",
    "    fact*=n\n",
    "    n-=1\n",
    "print(fact)"
   ]
  },
  {
   "cell_type": "code",
   "execution_count": 15,
   "id": "d2078338-35eb-4ee6-922d-902d989b7d9c",
   "metadata": {},
   "outputs": [
    {
     "name": "stdin",
     "output_type": "stream",
     "text": [
      "Enter a string:  bangalore\n"
     ]
    },
    {
     "name": "stdout",
     "output_type": "stream",
     "text": [
      "b\n",
      "ab\n",
      "nab\n",
      "gnab\n",
      "agnab\n",
      "lagnab\n",
      "olagnab\n",
      "rolagnab\n",
      "erolagnab\n",
      "Not a palindrome\n"
     ]
    }
   ],
   "source": [
    "text = str(input(\"Enter a string: \"))\n",
    "rev=\"\"\n",
    "for i in text:\n",
    "  rev=i+rev\n",
    "  print(rev)\n",
    "\n",
    "if text==rev:\n",
    "  print(\"Palindrome\")\n",
    "else:\n",
    "  print(\"Not a palindrome\")"
   ]
  },
  {
   "cell_type": "code",
   "execution_count": 16,
   "id": "f2c93db9-6876-4d11-a296-0f66f7b7bcef",
   "metadata": {},
   "outputs": [
    {
     "name": "stdin",
     "output_type": "stream",
     "text": [
      "enter a string: wassup\n"
     ]
    },
    {
     "name": "stdout",
     "output_type": "stream",
     "text": [
      "alphabet: 6\n",
      "digit: 0\n"
     ]
    }
   ],
   "source": [
    "text=str(input(\"enter a string:\"))\n",
    "digit = alphabet=0\n",
    "for i in text:\n",
    "    if i.isalpha():\n",
    "        alphabet+=1\n",
    "    elif i.isidigit():\n",
    "        digit+=1\n",
    "print(\"alphabet:\",alphabet)\n",
    "print(\"digit:\",digit)"
   ]
  },
  {
   "cell_type": "code",
   "execution_count": 17,
   "id": "b27d9122-c0e0-4974-a966-fb051fbc7ad3",
   "metadata": {},
   "outputs": [
    {
     "name": "stdin",
     "output_type": "stream",
     "text": [
      "Enter a string:  comehere\n"
     ]
    },
    {
     "name": "stdout",
     "output_type": "stream",
     "text": [
      "c\n",
      "oc\n",
      "moc\n",
      "emoc\n",
      "hemoc\n",
      "ehemoc\n",
      "rehemoc\n",
      "erehemoc\n",
      "Not a palindrome\n"
     ]
    }
   ],
   "source": [
    "text = str(input(\"Enter a string: \"))\n",
    "rev=\"\"\n",
    "i = 0\n",
    "while i < len(text):\n",
    "  rev = text[i] + rev\n",
    "  print(rev)\n",
    "  i += 1\n",
    "\n",
    "if text==rev:\n",
    "  print(\"Palindrome\")\n",
    "else:\n",
    "  print(\"Not a palindrome\")"
   ]
  },
  {
   "cell_type": "code",
   "execution_count": null,
   "id": "143b9954-24f5-4a07-b2ff-f81aa0f840fe",
   "metadata": {},
   "outputs": [],
   "source": []
  }
 ],
 "metadata": {
  "kernelspec": {
   "display_name": "Python 3 (ipykernel)",
   "language": "python",
   "name": "python3"
  },
  "language_info": {
   "codemirror_mode": {
    "name": "ipython",
    "version": 3
   },
   "file_extension": ".py",
   "mimetype": "text/x-python",
   "name": "python",
   "nbconvert_exporter": "python",
   "pygments_lexer": "ipython3",
   "version": "3.12.4"
  }
 },
 "nbformat": 4,
 "nbformat_minor": 5
}
