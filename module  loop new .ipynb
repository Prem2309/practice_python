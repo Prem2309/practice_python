{
 "cells": [
  {
   "cell_type": "raw",
   "id": "804abbe6-7786-4c65-8405-f1bcec8b29ae",
   "metadata": {},
   "source": [
    "for i in range(1,6):\n",
    "    for j in range(1,i+1):\n",
    "        print(i,end=\"\")\n",
    "    print()"
   ]
  },
  {
   "cell_type": "code",
   "execution_count": null,
   "id": "2dcc2436-eba5-4997-82ff-7a3c6eab6f70",
   "metadata": {},
   "outputs": [],
   "source": [
    "print(\"helloZ\")\n",
    "    "
   ]
  },
  {
   "cell_type": "code",
   "execution_count": 1,
   "id": "1bd4df6f-82af-44a8-8a64-8be3e2fa43be",
   "metadata": {},
   "outputs": [
    {
     "name": "stdin",
     "output_type": "stream",
     "text": [
      "enter your age 14\n",
      "enter the movie time 10.15, 13.30, 18.00, 22.00 13.30\n"
     ]
    },
    {
     "name": "stdout",
     "output_type": "stream",
     "text": [
      "$8\n"
     ]
    }
   ],
   "source": [
    "a = int(input(\"enter your age\"))\n",
    "mt = float(input(\"enter the movie time 10.15, 13.30, 18.00, 22.00\"))\n",
    "if (mt==10.15 or mt==13.30) and a>13:\n",
    "    print(\"$8\")\n",
    "elif(mt==18.00 or mt==22.00) and a<13:\n",
    "    print(\"$5\")\n",
    "\n"
   ]
  },
  {
   "cell_type": "code",
   "execution_count": 12,
   "id": "43a0356d-a9cd-4792-9321-b1ac87c5285a",
   "metadata": {},
   "outputs": [
    {
     "name": "stdin",
     "output_type": "stream",
     "text": [
      " 06\n",
      " 24\n"
     ]
    },
    {
     "name": "stdout",
     "output_type": "stream",
     "text": [
      "18\n"
     ]
    }
   ],
   "source": [
    "b_yr = int(input())\n",
    "c_yr = int(input())\n",
    "if b_yr > c_yr:\n",
    "    print((100-b_yr)+c_yr)\n",
    "else:\n",
    "    print(c_yr-b_yr)\n",
    "\n",
    "\n",
    "\n"
   ]
  },
  {
   "cell_type": "code",
   "execution_count": 4,
   "id": "fc88a580-a26f-4dc5-82f4-a24bd6310b82",
   "metadata": {},
   "outputs": [
    {
     "name": "stdin",
     "output_type": "stream",
     "text": [
      " 480\n",
      " 10\n",
      " 480\n",
      " 15\n",
      " 1110\n",
      " 5\n",
      " 2\n",
      " 3\n",
      " 2\n"
     ]
    },
    {
     "name": "stdout",
     "output_type": "stream",
     "text": [
      "In flipkart price is : 912.0\n",
      "In snapdeal price is : -146.5\n",
      "In amazon price is : 3.94\n",
      "He will buy from Snapdeal\n"
     ]
    }
   ],
   "source": [
    "#2_calculate the price of the shirt\n",
    "flipkart_price = int(input())\n",
    "flipkart_discount = int(input())\n",
    "flipkart_shipcharge = int(input())\n",
    "snapdeal_price = int(input())\n",
    "snapdeal_discount = int(input())\n",
    "snapdeal_shipcharge = int(input())\n",
    "amazon_price = int(input())\n",
    "amazon_discount = int(input())\n",
    "amazon_shipcharge = int(input())\n",
    "f = flipkart_price + flipkart_shipcharge - ((flipkart_discount)/100)*flipkart_price\n",
    "s = snapdeal_price + snapdeal_shipcharge - ((snapdeal_discount)/100)*snapdeal_price\n",
    "a = amazon_price + amazon_shipcharge - ((amazon_discount)/100)*amazon_price\n",
    "print(\"In flipkart price is :\", f)\n",
    "print(\"In snapdeal price is :\", s)\n",
    "print(\"In amazon price is :\", a)\n",
    "if f<=s and f<=a:\n",
    "    print(\"He will buy from Flipkart\")\n",
    "elif s<=f and s<=a:\n",
    "    print(\"He will buy from Snapdeal\")\n",
    "elif a<=s and a<=f:\n",
    "    print(\"He will buy from Amazon\")\n",
    "else:\n",
    "    print(\"invalid\")"
   ]
  },
  {
   "cell_type": "code",
   "execution_count": 8,
   "id": "f800a557-b0df-477b-82f5-f12ff0a11756",
   "metadata": {},
   "outputs": [
    {
     "name": "stdout",
     "output_type": "stream",
     "text": [
      "NO\n"
     ]
    }
   ],
   "source": [
    "def will_beat_light(distance, speed, green_duration, cycle_duration):\n",
    "    time_to_light = distance / speed\n",
    "    return time_to_light < green_duration\n",
    "distance_to_light = 59.99  \n",
    "current_speed = 1 \n",
    "green_time = 1 \n",
    "cycle_time = 60\n",
    "if will_beat_light(distance_to_light, \n",
    "current_speed, green_time, cycle_time):\n",
    "    print(\"We'll make it through the green light!\")\n",
    "else:\n",
    "    print(\"NO\")\n",
    "\n"
   ]
  },
  {
   "cell_type": "code",
   "execution_count": 9,
   "id": "c9c0c488-7a60-4351-8d6d-3bf7acb14619",
   "metadata": {},
   "outputs": [
    {
     "name": "stdout",
     "output_type": "stream",
     "text": [
      "The paintings can fit on the wall.\n"
     ]
    }
   ],
   "source": [
    "def can_fit_on_wall(wall_length, wall_breadth, painting1, painting2):\n",
    "    L1, B1 = painting1\n",
    "    L2, B2 = painting2\n",
    "    side_by_side = (L1 + L2 <= wall_length and max(B1, B2) <= wall_breadth) or \\\n",
    "                   (B1 + B2 <= wall_breadth and max(L1, L2) <= wall_length)\n",
    "    one_above_other = (max(L1, L2) <= wall_length and B1 + B2 <= wall_breadth) or \\\n",
    "                      (max(B1, B2) <= wall_breadth and L1 + L2 <= wall_length)   \n",
    "    return side_by_side or one_above_other\n",
    "wall_length = 8\n",
    "wall_breadth = 2\n",
    "painting1 = (4, 3)  \n",
    "painting2 = (5, 2)  \n",
    "if can_fit_on_wall(wall_length, wall_breadth, painting1, painting2):\n",
    "    print(\"The paintings can fit on the wall.\")\n",
    "else:\n",
    "    print(\"The paintings cannot fit on the wall.\")\n",
    "\n"
   ]
  },
  {
   "cell_type": "code",
   "execution_count": null,
   "id": "f8b9e413-05ba-48d5-8ce0-2133f9f430dc",
   "metadata": {},
   "outputs": [],
   "source": []
  }
 ],
 "metadata": {
  "kernelspec": {
   "display_name": "Python 3 (ipykernel)",
   "language": "python",
   "name": "python3"
  },
  "language_info": {
   "codemirror_mode": {
    "name": "ipython",
    "version": 3
   },
   "file_extension": ".py",
   "mimetype": "text/x-python",
   "name": "python",
   "nbconvert_exporter": "python",
   "pygments_lexer": "ipython3",
   "version": "3.12.4"
  }
 },
 "nbformat": 4,
 "nbformat_minor": 5
}
